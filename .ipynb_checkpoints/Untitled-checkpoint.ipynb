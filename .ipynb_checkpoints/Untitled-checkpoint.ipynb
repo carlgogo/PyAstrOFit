{
 "cells": [
  {
   "cell_type": "markdown",
   "metadata": {},
   "source": [
    "#PyAstrOFit: the Bayesian inference module"
   ]
  },
  {
   "cell_type": "markdown",
   "metadata": {},
   "source": [
    "We present here methods related to the **inference** module, part of the PyAstrOFit package. Futhermore, this notebook constitutes a how-to-use illustrated with several examples.\n",
    "\n",
    "**Tips**\n",
    "+ To obtain the complete docstring for a specific function, open a new cell and run: function_name?.\n",
    "+ To take a look at the source code of a specific function, open a new cell and run: function_name??."
   ]
  },
  {
   "cell_type": "code",
   "execution_count": null,
   "metadata": {
    "collapsed": true
   },
   "outputs": [],
   "source": []
  }
 ],
 "metadata": {
  "kernelspec": {
   "display_name": "Python 2",
   "language": "python",
   "name": "python2"
  },
  "language_info": {
   "codemirror_mode": {
    "name": "ipython",
    "version": 2
   },
   "file_extension": ".py",
   "mimetype": "text/x-python",
   "name": "python",
   "nbconvert_exporter": "python",
   "pygments_lexer": "ipython2",
   "version": "2.7.9"
  }
 },
 "nbformat": 4,
 "nbformat_minor": 0
}
