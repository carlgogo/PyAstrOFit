{
 "cells": [
  {
   "cell_type": "markdown",
   "metadata": {},
   "source": [
    "#PyAstrOFit: the Bayesian inference module"
   ]
  },
  {
   "cell_type": "markdown",
   "metadata": {},
   "source": [
    "We present here methods related to the **inference** module, part of the PyAstrOFit package. Futhermore, this notebook constitutes a how-to-use illustrated with several examples.\n",
    "\n",
    "**Tips**\n",
    "+ To obtain the complete docstring for a specific function, open a new cell and run: function_name?.\n",
    "+ To take a look at the source code of a specific function, open a new cell and run: function_name??."
   ]
  },
  {
   "cell_type": "markdown",
   "metadata": {
    "collapsed": true
   },
   "source": [
    "### Import\n",
    "\n",
    "Whatever part of the notebook you plan to execute, you better first run this cell."
   ]
  },
  {
   "cell_type": "code",
   "execution_count": null,
   "metadata": {
    "collapsed": false
   },
   "outputs": [],
   "source": [
    "%reset"
   ]
  },
  {
   "cell_type": "code",
   "execution_count": null,
   "metadata": {
    "collapsed": false
   },
   "outputs": [],
   "source": [
    "import PyAstrOFit\n",
    "import numpy as np\n",
    "import pickle\n",
    "\n",
    "%matplotlib inline\n",
    "%load_ext autoreload\n",
    "%autoreload 2"
   ]
  },
  {
   "cell_type": "code",
   "execution_count": null,
   "metadata": {
    "collapsed": false
   },
   "outputs": [],
   "source": [
    "#'/Users/Olivier/Documents/ULg/VORTEX/Results/Orbit_Fitting_Results/HR8799/HR8799c/20150427_Data_Pueyo/run_results'\n",
    "#'/Users/Olivier/Documents/ULg/VORTEX/Code/Python/Project_MCMCorbital/Old_PyAstrOFit_version/Final_Package/results/hr8799b/hr8799b_test/run_results'\n",
    "#'/Users/Olivier/Documents/ULg/VORTEX/Results/Orbit_Fitting_Results/HR8799/HR8799_SyntheticData_InfluenceOfBiasedError/orbit_test_3_true/run_results'\n",
    "# '/Users/Olivier/Documents/ULg/VORTEX/Results/Orbit_Fitting_Results/HR8799/HR8799c/20150427_Data_Pueyo/run_results'\n",
    "#'/Users/Olivier/Documents/ULg/VORTEX/Results/Github/PyAstrOFit/results/betapicb_today/run_results'\n",
    "path = '/Users/Olivier/Documents/ULg/VORTEX/Code/Python/Project_MCMCorbital/Simulations/results/bash_#1_20151012/run_results'\n",
    "#'/Users/Olivier/Documents/ULg/VORTEX/Results/Github/PyAstrOFit/results/test_20151012/run_results'\n",
    "\n",
    "with open(path,'rb') as f:\n",
    "    mp = pickle.Unpickler(f)\n",
    "    res = mp.load()"
   ]
  },
  {
   "cell_type": "markdown",
   "metadata": {},
   "source": [
    "----"
   ]
  },
  {
   "cell_type": "code",
   "execution_count": null,
   "metadata": {
    "collapsed": false
   },
   "outputs": [],
   "source": [
    "res.keys()\n",
    "#res['run_info']"
   ]
  },
  {
   "cell_type": "code",
   "execution_count": null,
   "metadata": {
    "collapsed": false,
    "scrolled": false
   },
   "outputs": [],
   "source": [
    "#res['chain']\n",
    "#res['sampler_parameters']\n",
    "#res['internal_parameters']\n",
    "res['input_parameters']"
   ]
  },
  {
   "cell_type": "code",
   "execution_count": null,
   "metadata": {
    "collapsed": false
   },
   "outputs": [],
   "source": [
    "#chain =  res['isamples']\n",
    "#priors = res['run_info']['priors']\n",
    "#data = 'hr8799b'\n",
    "#lnprobability = None\n",
    "#input_parameters = None\n",
    "\n",
    "chain =  res['chain']\n",
    "priors = res['sampler_parameters']['priors']\n",
    "data = 'hr8799b'\n",
    "lnprobability = res['lnprobability']\n",
    "input_parameters = res['input_parameters']\n",
    "\n",
    "stat = PyAstrOFit.BayesianInference(markovchain=chain,\n",
    "                                    data=data,\n",
    "                                    priors=priors,\n",
    "                                    lnprobability=lnprobability,\n",
    "                                    input_parameters=input_parameters)"
   ]
  },
  {
   "cell_type": "code",
   "execution_count": null,
   "metadata": {
    "collapsed": false,
    "scrolled": false
   },
   "outputs": [],
   "source": [
    "#stat.showWalk(burnin=0., back_to_synthetic_elements=True, save=False, fontsize=14)\n",
    "\n",
    "#stat.reset()\n",
    "stat.independent_samples(burnin=0.5)\n",
    "\n",
    "#stat.showPDFCorner(back_to_synthetic_elements=True)\n",
    "\n",
    "#isamples = stat.markovchain[:,250:,:].reshape((-1,6))\n",
    "#stat.showPDFCorner(isamples)"
   ]
  },
  {
   "cell_type": "code",
   "execution_count": null,
   "metadata": {
    "collapsed": false
   },
   "outputs": [],
   "source": [
    "# **only if the log-likelihood was given when the BayesienInference object \n",
    "# was instanciated (that is to say if lnprobability is not NONE)**\n",
    "stat.best_solution()"
   ]
  },
  {
   "cell_type": "code",
   "execution_count": null,
   "metadata": {
    "collapsed": false
   },
   "outputs": [],
   "source": [
    "print stat.lnprobability\n",
    "print stat._ilnprobability.shape\n",
    "print stat._iorbit\n",
    "print stat._isamples_in_confidence.shape\n",
    "print stat._isamples_out_confidence.shape\n",
    "print stat._n_iorbit_in_confidence\n",
    "print stat._n_iorbit_out_confidence"
   ]
  },
  {
   "cell_type": "markdown",
   "metadata": {},
   "source": [
    "---"
   ]
  },
  {
   "cell_type": "markdown",
   "metadata": {},
   "source": [
    "Confidence intervals"
   ]
  },
  {
   "cell_type": "code",
   "execution_count": null,
   "metadata": {
    "collapsed": false,
    "scrolled": true
   },
   "outputs": [],
   "source": [
    "val_max, confidence = stat.confidence(cfd=69, bins=100, verbose=True)"
   ]
  },
  {
   "cell_type": "code",
   "execution_count": null,
   "metadata": {
    "collapsed": false
   },
   "outputs": [],
   "source": [
    "print val_max\n",
    "print ''\n",
    "print confidence\n",
    "[[val_max[k]+confidence[k,0],val_max[k]+confidence[k,1]] for k in range(6)]"
   ]
  },
  {
   "cell_type": "code",
   "execution_count": null,
   "metadata": {
    "collapsed": true
   },
   "outputs": [],
   "source": [
    "confidence[3,:] = [-val_max[3],360-val_max[3]]\n",
    "confidence[4,:] = [-val_max[4],360-val_max[4]]"
   ]
  },
  {
   "cell_type": "markdown",
   "metadata": {},
   "source": [
    "---"
   ]
  },
  {
   "cell_type": "markdown",
   "metadata": {},
   "source": [
    "Determine allowable orbits **only if the log-likelihood was given when the BayesienInference object was instanciated (that is to say if lnprobability is not NONE)**"
   ]
  },
  {
   "cell_type": "code",
   "execution_count": null,
   "metadata": {
    "collapsed": false
   },
   "outputs": [],
   "source": [
    "stat.solution_in_confidence(valMax=None, confidenceInterval=None, verbose=True)"
   ]
  },
  {
   "cell_type": "code",
   "execution_count": null,
   "metadata": {
    "collapsed": false
   },
   "outputs": [],
   "source": [
    "#valMax=None#val_max\n",
    "#confidenceInterval=None#confidence\n",
    "#sigma=1\n",
    "\n",
    "p, chi2r = stat.highlyProbableSolution(priors=priors,                                       \n",
    "                                       nSolutions=100, \n",
    "                                       chi2_max=1.6,\n",
    "                                       in_confidence=None,\n",
    "                                       nOrbit=None,\n",
    "                                       verbose=True)"
   ]
  },
  {
   "cell_type": "code",
   "execution_count": null,
   "metadata": {
    "collapsed": false
   },
   "outputs": [],
   "source": [
    "#p ,chi2r"
   ]
  },
  {
   "cell_type": "markdown",
   "metadata": {},
   "source": [
    "Case of *nSolution* = 1"
   ]
  },
  {
   "cell_type": "code",
   "execution_count": null,
   "metadata": {
    "collapsed": false
   },
   "outputs": [],
   "source": [
    "print p, chi2r\n",
    "for k,q in enumerate(p):\n",
    "    print '{} < {} < {} : {}'.format(val_max[k]+confidence[k,0],q,val_max[k]+confidence[k,1],\n",
    "                               val_max[k]+confidence[k,0]<=q<=val_max[k]+confidence[k,1])"
   ]
  },
  {
   "cell_type": "markdown",
   "metadata": {},
   "source": [
    "Case of *nSolution* > 1"
   ]
  },
  {
   "cell_type": "code",
   "execution_count": null,
   "metadata": {
    "collapsed": false
   },
   "outputs": [],
   "source": [
    "temp=[all([val_max[k]+sigma*confidence[k,0]<=p[j,k]<=val_max[k]+sigma*confidence[k,1] for k in range(6)]) for j in range(p.shape[0])]\n",
    "all(temp), any(temp)"
   ]
  },
  {
   "cell_type": "code",
   "execution_count": null,
   "metadata": {
    "collapsed": false
   },
   "outputs": [],
   "source": [
    "print chi2r[chi2r.argmin()], chi2r[chi2r.argmax()]\n",
    "print p[chi2r.argmin(),:]"
   ]
  },
  {
   "cell_type": "code",
   "execution_count": null,
   "metadata": {
    "collapsed": false,
    "scrolled": false
   },
   "outputs": [],
   "source": [
    "k = 5\n",
    "w = [val_max[k]+sigma*confidence[k,0] <=p[j,k]<=val_max[k]+sigma*confidence[k,1] for j in range(p.shape[0])]\n",
    "all(w), any(w)"
   ]
  },
  {
   "cell_type": "markdown",
   "metadata": {},
   "source": [
    "---"
   ]
  },
  {
   "cell_type": "code",
   "execution_count": null,
   "metadata": {
    "collapsed": false
   },
   "outputs": [],
   "source": [
    "import matplotlib.pylab as plt\n",
    "plt.hist(chi2r,20)"
   ]
  },
  {
   "cell_type": "markdown",
   "metadata": {},
   "source": [
    "Represent allowable orbits"
   ]
  },
  {
   "cell_type": "code",
   "execution_count": null,
   "metadata": {
    "collapsed": false,
    "scrolled": false
   },
   "outputs": [],
   "source": [
    "#(p[p[:,1]<0.2],chi2r[p[:,1]<0.2])\n",
    "best_options = {'color':(1,1,0), 'linewidth':2.5}\n",
    "title_options = {'title':'Planet b', 'size':20}\n",
    "save_options = None #{'filename':'test_hr8799c_full', 'format':'pdf'}\n",
    "\n",
    "stat.showSolutions(priors=priors,\n",
    "                   p=p,\n",
    "                   chi2r=chi2r,\n",
    "                   lim = [[-2,2],[-2,2]],\n",
    "                   color = (0,0,1),\n",
    "                   linewidth=2,\n",
    "                   xticks=None,\n",
    "                   yticks=None,\n",
    "                   best_options = best_options,\n",
    "                   title_options=title_options,\n",
    "                   save_options=save_options)"
   ]
  },
  {
   "cell_type": "markdown",
   "metadata": {
    "collapsed": true
   },
   "source": [
    "---"
   ]
  },
  {
   "cell_type": "markdown",
   "metadata": {},
   "source": [
    "## Work in progress"
   ]
  },
  {
   "cell_type": "code",
   "execution_count": null,
   "metadata": {
    "collapsed": false
   },
   "outputs": [],
   "source": [
    "################################################################################\n",
    "## Compare chi^2 value determined from the chiSquare() method and \n",
    "## the log-likelihood. For a given orbit and observations, it should \n",
    "## of course be the same.\n",
    "################################################################################\n",
    "\n",
    "# Load MCMC results\n",
    "path = '/Users/Olivier/Documents/ULg/VORTEX/Results/Github/PyAstrOFit/results/test/run_results'\n",
    "with open(path,'rb') as f:\n",
    "    mp = pickle.Unpickler(f)\n",
    "    res = mp.load()\n",
    "\n",
    "k, j = 11, 29 # walker, state of the walker\n",
    "\n",
    "\n",
    "# Instanciate the orbit object\n",
    "planet = PyAstrOFit.Orbit.Orbit(semiMajorAxis=res['chain'][k,j,0],\n",
    "                                eccentricity=res['chain'][k,j,1],\n",
    "                                inclinaison=res['chain'][k,j,2],\n",
    "                                longitudeAscendingNode=res['chain'][k,j,3],\n",
    "                                periastron=res['chain'][k,j,4],\n",
    "                                periastronTime=res['chain'][k,j,5],\n",
    "                                starMass=res['sampler_parameters']['priors']['starMass'],\n",
    "                                dStar=res['sampler_parameters']['priors']['starDistance'])\n",
    "\n",
    "\n",
    "# Load observations\n",
    "planet_data = PyAstrOFit.Planet_data.get_planet_data('betapicb')\n",
    "\n",
    "observation_dates = planet_data[0]['timePosition']\n",
    "data_RA = planet_data[0]['raPosition']\n",
    "err_RA = planet_data[1]['raError']\n",
    "data_DEC = planet_data[0]['decPosition']\n",
    "err_DEC = planet_data[1]['decError']\n",
    "\n",
    "\n",
    "# chi^2 from Orbit object method chiSquare\n",
    "chi2 = planet.chiSquare(planet_data[0],planet_data[1])\n",
    "\n",
    "\n",
    "# log-likelihood from AISampler object method lnlike\n",
    "s = PyAstrOFit.Sampler.AISampler('betapicb',priors)\n",
    "planet_data[0]['timePositionJD'] = s._ob['timePositionJD']\n",
    "lnlike = PyAstrOFit.Sampler.lnlike(res['chain'][k,j,:],planet_data[0],planet_data[1],priors,s._l)\n",
    "\n",
    "\n",
    "# chi^2 from log-likelihood\n",
    "yerr = np.concatenate((err_RA,err_DEC))\n",
    "inv_sigma2 = 1.0/(yerr**2)\n",
    "chi2_ln = -2*res['lnprobabiliy'][k,j]+np.sum(np.log(inv_sigma2))\n",
    "\n",
    "\n",
    "# Results\n",
    "print 'chi2 from chiSquare()= {}\\nchi2 from ln-likelihood= {}'.format(chi2,chi2_ln)"
   ]
  },
  {
   "cell_type": "code",
   "execution_count": null,
   "metadata": {
    "collapsed": false
   },
   "outputs": [],
   "source": [
    "# Import\n",
    "import matplotlib.pylab as plt\n",
    "\n",
    "# Load MCMC results\n",
    "path = '/Users/Olivier/Documents/ULg/VORTEX/Results/Github/PyAstrOFit/results/test/run_results'\n",
    "with open(path,'rb') as f:\n",
    "    mp = pickle.Unpickler(f)\n",
    "    res = mp.load()\n",
    "\n",
    "# Load observations\n",
    "planet_data = PyAstrOFit.Planet_data.get_planet_data('betapicb')\n",
    "\n",
    "#observation_dates = planet_data[0]['timePosition']\n",
    "#data_RA = planet_data[0]['raPosition']\n",
    "err_RA = planet_data[1]['raError']\n",
    "#data_DEC = planet_data[0]['decPosition']\n",
    "err_DEC = planet_data[1]['decError']\n",
    "\n",
    "# log-likelihood from AISampler object method lnlike\n",
    "#s = PyAstrOFit.Sampler.AISampler('betapicb',priors)\n",
    "#planet_data[0]['timePositionJD'] = s._ob['timePositionJD']\n",
    "#lnlike = PyAstrOFit.Sampler.lnlike(res['chain'][k,j,:],planet_data[0],planet_data[1],priors,s._l)\n",
    "\n",
    "# chi^2 from log-likelihood\n",
    "yerr = np.concatenate((err_RA,err_DEC))\n",
    "inv_sigma2 = 1.0/(yerr**2)\n",
    "chi2_ln = -2*res['lnprobabiliy'][0,:]+np.sum(np.log(inv_sigma2))\n",
    "\n",
    "plt.hist(chi2_ln[chi2_ln<10],50)"
   ]
  }
 ],
 "metadata": {
  "kernelspec": {
   "display_name": "Python 2",
   "language": "python",
   "name": "python2"
  },
  "language_info": {
   "codemirror_mode": {
    "name": "ipython",
    "version": 2
   },
   "file_extension": ".py",
   "mimetype": "text/x-python",
   "name": "python",
   "nbconvert_exporter": "python",
   "pygments_lexer": "ipython2",
   "version": "2.7.9"
  }
 },
 "nbformat": 4,
 "nbformat_minor": 0
}
